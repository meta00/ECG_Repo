{
 "cells": [
  {
   "cell_type": "code",
   "execution_count": 15,
   "metadata": {},
   "outputs": [],
   "source": [
    "import os\n",
    "import pandas as pd"
   ]
  },
  {
   "cell_type": "code",
   "execution_count": 16,
   "metadata": {},
   "outputs": [],
   "source": [
    "SAMPLING_RATE = 256\n",
    "DATA_PER_MINUTE = SAMPLING_RATE * 60\n",
    "DATA_PER_HALF_MINUTE = DATA_PER_MINUTE * 0.5"
   ]
  },
  {
   "cell_type": "code",
   "execution_count": 17,
   "metadata": {},
   "outputs": [],
   "source": [
    "randomed_numbers = [11169, 43898, 2065, 15051, 10488, 19117, 2347, 25301, 42721, 38833, 9706, 44038, 41159, 44079, 31089, 24902, 16962, 24171, 33210, 850, 28039, 17488, 32538, 37930, 37830, 43844, 43928, 11835, 30855, 29154, 16370, 18443, 36781, 36015, 13692, 36248, 19409, 12191, 40195, 21910, 1353, 13465, 9808, 14243, 37440, 33589, 38959, 31290, 42472, 30123, 44374, 10781, 13971, 41485, 37604, 10932, 12661, 17663, 25990, 35089, 39938, 12790, 26209, 44545, 7990, 22783, 1087, 26672, 2837, 40083, 44410, 44588, 22946, 38323, 2861, 20781, 36486, 11203, 3001, 31609, 33063, 44040, 35534, 33204, 861, 15970, 32787, 20511, 14558, 12474, 37650, 9548, 14357, 6252, 11041, 26991, 16098, 32887, 9874, 21004, 7317, 30490, 16293, 13305, 21165, 12962, 7350, 15757, 43615, 41047, 43529, 700, 4365, 32693, 31280, 33597, 42453, 5939, 43855, 28879, 32525, 36581, 24414, 5878, 19282, 18374, 40734, 32662, 26493, 7753, 8494, 26306, 34278, 43600, 15892, 17837, 42311, 6367, 39052, 30166, 5354, 8856, 34087, 13596, 36464, 4899, 28152, 38165, 21696, 16550, 33254, 20198, 11372, 14965, 42737, 28413, 43918, 42356, 26964, 16931, 43080, 11421, 32386, 20882, 8753, 1248, 35481, 6162, 15496, 35281, 9886, 30891, 8620, 27278, 1327, 9333, 32646, 34647, 6633, 7348, 13247, 36643, 38093, 28873, 8446, 7276, 24789, 10276, 8259, 8483, 7199, 42764, 27795, 6354, 1288, 34529, 737, 29531, 846, 34431, 11334, 14454, 27658, 28996, 26807, 32564, 18201, 4721, 19532, 15684, 640, 38975, 7321, 38070, 41572, 41880, 15453, 25773, 30103, 40530, 24188, 23511, 12930, 7146, 5100, 27300, 494, 5848, 11063, 33676, 12394, 40598, 33655, 21802, 28951, 39169, 17882, 25082, 10397, 20065, 11779, 27366, 14069, 20871, 20478, 6132, 15235, 16790, 28924, 19585, 7238, 38656, 42259, 30074, 1819, 37082, 17585, 41508, 3335, 27206, 24220, 35944, 36356, 7413, 16663, 19471, 22007, 41137, 15862, 7552, 29525, 22662, 13439, 12830, 34286, 416, 2866, 31661, 34649, 10973, 11018, 30880, 5834, 16153, 23111, 33679, 16901, 22835, 34776, 39440, 14175, 7535, 26256, 4350, 2537, 35317, 30608, 38094, 42450, 16886] "
   ]
  },
  {
   "cell_type": "code",
   "execution_count": 18,
   "metadata": {},
   "outputs": [],
   "source": [
    "applicable_nums = set(range(1, 44880)) - set(randomed_numbers)"
   ]
  },
  {
   "cell_type": "code",
   "execution_count": 19,
   "metadata": {},
   "outputs": [],
   "source": [
    "import random\n",
    "random_indexes = random.sample(applicable_nums, 60)"
   ]
  },
  {
   "cell_type": "code",
   "execution_count": 20,
   "metadata": {},
   "outputs": [
    {
     "data": {
      "text/plain": [
       "[22032,\n",
       " 21239,\n",
       " 44469,\n",
       " 16855,\n",
       " 34872,\n",
       " 16097,\n",
       " 17892,\n",
       " 16131,\n",
       " 6896,\n",
       " 568,\n",
       " 14009,\n",
       " 42830,\n",
       " 35666,\n",
       " 21220,\n",
       " 38050,\n",
       " 4756,\n",
       " 16825,\n",
       " 25491,\n",
       " 40283,\n",
       " 39482,\n",
       " 26674,\n",
       " 44620,\n",
       " 39636,\n",
       " 6264,\n",
       " 29406,\n",
       " 21978,\n",
       " 1364,\n",
       " 24955,\n",
       " 2789,\n",
       " 759,\n",
       " 19934,\n",
       " 40679,\n",
       " 29284,\n",
       " 34645,\n",
       " 16009,\n",
       " 27650,\n",
       " 28898,\n",
       " 6030,\n",
       " 31489,\n",
       " 32468,\n",
       " 4803,\n",
       " 27670,\n",
       " 36281,\n",
       " 11830,\n",
       " 41739,\n",
       " 15990,\n",
       " 31459,\n",
       " 8847,\n",
       " 39744,\n",
       " 7980,\n",
       " 12754,\n",
       " 16442,\n",
       " 39418,\n",
       " 39735,\n",
       " 39908,\n",
       " 32486,\n",
       " 16039,\n",
       " 13850,\n",
       " 250,\n",
       " 2470]"
      ]
     },
     "execution_count": 20,
     "metadata": {},
     "output_type": "execute_result"
    }
   ],
   "source": [
    "random_indexes"
   ]
  },
  {
   "cell_type": "code",
   "execution_count": 22,
   "metadata": {},
   "outputs": [
    {
     "name": "stdout",
     "output_type": "stream",
     "text": [
      "/media/tuan/NGUI GA//ECG_split/22032.csv\n",
      "/media/tuan/NGUI GA//ECG_split/21239.csv\n",
      "/media/tuan/NGUI GA//ECG_split/44469.csv\n"
     ]
    },
    {
     "name": "stderr",
     "output_type": "stream",
     "text": [
      "<ipython-input-22-58f9ebec83dd>:12: FutureWarning: The signature of `Series.to_csv` was aligned to that of `DataFrame.to_csv`, and argument 'header' will change its default value from False to True: please pass an explicit value to suppress this warning.\n",
      "  split_df.to_csv(save_path, index=False)\n"
     ]
    },
    {
     "name": "stdout",
     "output_type": "stream",
     "text": [
      "/media/tuan/NGUI GA//ECG_split/16855.csv\n",
      "/media/tuan/NGUI GA//ECG_split/34872.csv\n",
      "/media/tuan/NGUI GA//ECG_split/16097.csv\n",
      "/media/tuan/NGUI GA//ECG_split/17892.csv\n",
      "/media/tuan/NGUI GA//ECG_split/16131.csv\n",
      "/media/tuan/NGUI GA//ECG_split/6896.csv\n",
      "/media/tuan/NGUI GA//ECG_split/568.csv\n",
      "/media/tuan/NGUI GA//ECG_split/14009.csv\n",
      "/media/tuan/NGUI GA//ECG_split/42830.csv\n",
      "/media/tuan/NGUI GA//ECG_split/35666.csv\n",
      "/media/tuan/NGUI GA//ECG_split/21220.csv\n",
      "/media/tuan/NGUI GA//ECG_split/38050.csv\n",
      "/media/tuan/NGUI GA//ECG_split/4756.csv\n",
      "/media/tuan/NGUI GA//ECG_split/16825.csv\n",
      "/media/tuan/NGUI GA//ECG_split/25491.csv\n",
      "/media/tuan/NGUI GA//ECG_split/40283.csv\n",
      "/media/tuan/NGUI GA//ECG_split/39482.csv\n",
      "/media/tuan/NGUI GA//ECG_split/26674.csv\n",
      "/media/tuan/NGUI GA//ECG_split/44620.csv\n",
      "/media/tuan/NGUI GA//ECG_split/39636.csv\n",
      "/media/tuan/NGUI GA//ECG_split/6264.csv\n",
      "/media/tuan/NGUI GA//ECG_split/29406.csv\n",
      "/media/tuan/NGUI GA//ECG_split/21978.csv\n",
      "/media/tuan/NGUI GA//ECG_split/1364.csv\n",
      "/media/tuan/NGUI GA//ECG_split/24955.csv\n",
      "/media/tuan/NGUI GA//ECG_split/2789.csv\n",
      "/media/tuan/NGUI GA//ECG_split/759.csv\n",
      "/media/tuan/NGUI GA//ECG_split/19934.csv\n",
      "/media/tuan/NGUI GA//ECG_split/40679.csv\n",
      "/media/tuan/NGUI GA//ECG_split/29284.csv\n",
      "/media/tuan/NGUI GA//ECG_split/34645.csv\n",
      "/media/tuan/NGUI GA//ECG_split/16009.csv\n",
      "/media/tuan/NGUI GA//ECG_split/27650.csv\n",
      "/media/tuan/NGUI GA//ECG_split/28898.csv\n",
      "/media/tuan/NGUI GA//ECG_split/6030.csv\n",
      "/media/tuan/NGUI GA//ECG_split/31489.csv\n",
      "/media/tuan/NGUI GA//ECG_split/32468.csv\n",
      "/media/tuan/NGUI GA//ECG_split/4803.csv\n",
      "/media/tuan/NGUI GA//ECG_split/27670.csv\n",
      "/media/tuan/NGUI GA//ECG_split/36281.csv\n",
      "/media/tuan/NGUI GA//ECG_split/11830.csv\n",
      "/media/tuan/NGUI GA//ECG_split/41739.csv\n",
      "/media/tuan/NGUI GA//ECG_split/15990.csv\n",
      "/media/tuan/NGUI GA//ECG_split/31459.csv\n",
      "/media/tuan/NGUI GA//ECG_split/8847.csv\n",
      "/media/tuan/NGUI GA//ECG_split/39744.csv\n",
      "/media/tuan/NGUI GA//ECG_split/7980.csv\n",
      "/media/tuan/NGUI GA//ECG_split/12754.csv\n",
      "/media/tuan/NGUI GA//ECG_split/16442.csv\n",
      "/media/tuan/NGUI GA//ECG_split/39418.csv\n",
      "/media/tuan/NGUI GA//ECG_split/39735.csv\n",
      "/media/tuan/NGUI GA//ECG_split/39908.csv\n",
      "/media/tuan/NGUI GA//ECG_split/32486.csv\n",
      "/media/tuan/NGUI GA//ECG_split/16039.csv\n",
      "/media/tuan/NGUI GA//ECG_split/13850.csv\n",
      "/media/tuan/NGUI GA//ECG_split/250.csv\n",
      "/media/tuan/NGUI GA//ECG_split/2470.csv\n"
     ]
    }
   ],
   "source": [
    "BASE_PATH = \"/media/tuan/NGUI GA/\"\n",
    "DATA_PATH = f\"{BASE_PATH}/ECG_split/\"\n",
    "SAVE_FILE_DIR = f\"./Data/7\"\n",
    "for i in random_indexes:\n",
    "    file_path = DATA_PATH + f\"{i}.csv\"\n",
    "    save_path = SAVE_FILE_DIR + f\"{i}.csv\"\n",
    "    print(file_path)\n",
    "    frame_start_index = 0 \n",
    "    frame_end_index = int(DATA_PER_HALF_MINUTE)\n",
    "    df = pd.read_csv(file_path)\n",
    "    split_df = df['# ECG Channel 1'][frame_start_index:frame_end_index]\n",
    "    split_df.to_csv(save_path, index=False)"
   ]
  },
  {
   "cell_type": "code",
   "execution_count": 23,
   "metadata": {},
   "outputs": [],
   "source": [
    "import hashlib\n",
    "files = []\n",
    "md5s = []\n",
    "for r, d, f in os.walk(SAVE_FILE_DIR):\n",
    "        for file in f:\n",
    "            if file.endswith(\".csv\"):\n",
    "                md5_hash = hashlib.md5()\n",
    "                file_path = SAVE_FILE_DIR + file\n",
    "                a_file = open(file_path, \"rb\")\n",
    "                content = a_file.read()\n",
    "                md5_hash.update(content)\n",
    "\n",
    "                digest = md5_hash.hexdigest()\n",
    "                files.append(file)\n",
    "                md5s.append(digest)\n",
    "data = {'file': files, 'md5': md5s}\n",
    "md5_df = pd.DataFrame.from_dict(data)        "
   ]
  },
  {
   "cell_type": "code",
   "execution_count": 24,
   "metadata": {},
   "outputs": [],
   "source": [
    "md5_df.to_csv('md5_7.csv')"
   ]
  },
  {
   "cell_type": "code",
   "execution_count": null,
   "metadata": {},
   "outputs": [],
   "source": []
  }
 ],
 "metadata": {
  "kernelspec": {
   "display_name": "Python 3",
   "language": "python",
   "name": "python3"
  },
  "language_info": {
   "codemirror_mode": {
    "name": "ipython",
    "version": 3
   },
   "file_extension": ".py",
   "mimetype": "text/x-python",
   "name": "python",
   "nbconvert_exporter": "python",
   "pygments_lexer": "ipython3",
   "version": "3.8.5"
  }
 },
 "nbformat": 4,
 "nbformat_minor": 1
}
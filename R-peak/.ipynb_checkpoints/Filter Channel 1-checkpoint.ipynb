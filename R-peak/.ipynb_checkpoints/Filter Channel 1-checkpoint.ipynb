{
 "cells": [
  {
   "cell_type": "code",
   "execution_count": 30,
   "metadata": {},
   "outputs": [],
   "source": [
    "CSVS_PATH = \"/media/tuan/NGUI GA/ECG_cleaned\"\n",
    "EXPORT_PEAK_PATH = \"/media/tuan/NGUI GA/ECG_PEAK\""
   ]
  },
  {
   "cell_type": "code",
   "execution_count": 31,
   "metadata": {},
   "outputs": [],
   "source": [
    "SAMPLING_RATE = 256\n",
    "from ecgdetectors import Detectors\n",
    "detectors = Detectors(SAMPLING_RATE)"
   ]
  },
  {
   "cell_type": "code",
   "execution_count": null,
   "metadata": {},
   "outputs": [],
   "source": [
    "completed = [\"110-5.csv\", \"008-5.csv\", \"009-1.csv\", \"009-5.csv\", \"011-1.csv\", \"013-1.csv\", \"014-1.csv\", \"017-1.csv\", \"018-1.csv\", \"030-1.csv\", \"030-5.csv\", \"031-1.csv\", \"032-1.csv\", \"032-5.csv\", \"033-1.csv\", \"033-5.csv\", \"034-5.csv\", \"035-1.csv\", \"035-5.csv\", \"036-1.csv\", \"036-5.csv\", \"037-1.csv\", \"037-5.1.csv\", \"037-5.2.csv\", \"038-1.csv\", \"038-5.csv\", \"039-1.csv\", \"039-5.csv\", \"040-1.csv\", \"040-5.csv\"]"
   ]
  },
  {
   "cell_type": "code",
   "execution_count": null,
   "metadata": {},
   "outputs": [
    {
     "name": "stdout",
     "output_type": "stream",
     "text": [
      "110-5.csv\n",
      "008-5.csv\n",
      "009-1.csv\n",
      "009-5.csv\n",
      "011-1.csv\n",
      "013-1.csv\n",
      "014-1.csv\n",
      "017-1.csv\n",
      "018-1.csv\n",
      "030-1.csv\n",
      "030-5.csv\n",
      "031-1.csv\n",
      "032-1.csv\n",
      "032-5.csv\n",
      "033-1.csv\n",
      "033-5.csv\n",
      "034-5.csv\n",
      "035-1.csv\n",
      "035-5.csv\n",
      "036-1.csv\n",
      "036-5.csv\n",
      "037-1.csv\n",
      "037-5.1.csv\n",
      "037-5.2.csv\n",
      "038-1.csv\n",
      "038-5.csv\n",
      "039-1.csv\n",
      "039-5.csv\n",
      "040-1.csv\n",
      "040-5.csv\n",
      "041-1.csv\n",
      "041-5.csv\n"
     ]
    }
   ],
   "source": [
    "for r, d, f in os.walk(CSVS_PATH):\n",
    "        for filename in f:\n",
    "            if filename.endswith(\".csv\"):\n",
    "                    print(filename)\n",
    "                    df = pd.read_csv('{}/{}'.format(CSVS_PATH, filename))\n",
    "                    col = '# ECG Channel 1'\n",
    "                    if col not in df.columns:\n",
    "                        col = '# ECG Channel 2'\n",
    "                    r_peaks = detectors.pan_tompkins_detector(df[col])\n",
    "                    # dictionary of lists\n",
    "                    dict = {'r_peaks': r_peaks}   \n",
    "\n",
    "                    rpeak_df = pd.DataFrame(dict)  \n",
    "\n",
    "                    # saving the dataframe  \n",
    "                    rpeak_df.to_csv(f\"{EXPORT_PEAK_PATH}/{filename}\", index=False) "
   ]
  },
  {
   "cell_type": "code",
   "execution_count": null,
   "metadata": {},
   "outputs": [],
   "source": []
  }
 ],
 "metadata": {
  "kernelspec": {
   "display_name": "Python 3",
   "language": "python",
   "name": "python3"
  },
  "language_info": {
   "codemirror_mode": {
    "name": "ipython",
    "version": 3
   },
   "file_extension": ".py",
   "mimetype": "text/x-python",
   "name": "python",
   "nbconvert_exporter": "python",
   "pygments_lexer": "ipython3",
   "version": "3.8.5"
  }
 },
 "nbformat": 4,
 "nbformat_minor": 4
}

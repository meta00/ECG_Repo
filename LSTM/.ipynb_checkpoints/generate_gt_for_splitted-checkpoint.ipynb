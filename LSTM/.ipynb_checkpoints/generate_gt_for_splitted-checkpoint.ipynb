{
 "cells": [
  {
   "cell_type": "code",
   "execution_count": 1,
   "metadata": {},
   "outputs": [],
   "source": [
    "import os\n",
    "import pandas as pd\n",
    "import numpy as np"
   ]
  },
  {
   "cell_type": "code",
   "execution_count": 2,
   "metadata": {},
   "outputs": [],
   "source": [
    "gt_df = pd.read_csv('./Estimated.csv')"
   ]
  },
  {
   "cell_type": "code",
   "execution_count": 3,
   "metadata": {},
   "outputs": [],
   "source": [
    "#gt_df.head(5)"
   ]
  },
  {
   "cell_type": "code",
   "execution_count": 4,
   "metadata": {},
   "outputs": [],
   "source": [
    "DATA_PATH = './ECG_PEAK'"
   ]
  },
  {
   "cell_type": "code",
   "execution_count": 22,
   "metadata": {
    "scrolled": true
   },
   "outputs": [],
   "source": [
    "ground_truth_df = pd.DataFrame(columns = ['usubjid', 'timepoint', 'class'\n",
    "    , 'ablett_score', 'file', 'original', 'start', 'stop'])\n",
    "\n",
    "split_len = 600\n",
    "sequences = []\n",
    "for r, d, f in os.walk(DATA_PATH):\n",
    "        for file in f:\n",
    "            if file.endswith(\".csv\"):\n",
    "                df = pd.read_csv(os.path.join(DATA_PATH, file), header=0)\n",
    "                file_info = file_class = gt_df[gt_df['file'] == file[:-4]]\n",
    "                file_class = gt_df[gt_df['file'] == file[:-4]]['class'].values[0]\n",
    "                #print(file_info)\n",
    "                values = df.values\n",
    "                values_len = len(values)\n",
    "                for i in range(values_len // split_len):\n",
    "                    s_index, e_index = split_len * i, split_len * (i + 1)\n",
    "                    split_vals = values[s_index:e_index]\n",
    "                    arr = np.asarray(split_vals).astype(int)\n",
    "                    if len(split_vals) < split_len:\n",
    "                        print(\"Len trimmed\")\n",
    "                        continue\n",
    "                    diff_arr = np.diff(arr, axis=0).astype(int)\n",
    "                    split_file_name = f\"./RR/{file[:-4]}_{i}|{file_class}.csv\"\n",
    "                    np.savetxt(split_file_name, diff_arr, delimiter=\",\", fmt=\"%d\")\n",
    "                    file_row = {'usubjid' : file_info['usubjid'].values[0],\n",
    "                                'timepoint' : file_info['timepoint'].values[0],\n",
    "                                'class' : file_info['class'].values[0],\n",
    "                                'ablett_score' : file_info['ablett_score'].values[0],\n",
    "                                'file' : split_file_name,\n",
    "                                'original': file_info['file'].values[0],\n",
    "                                'start': s_index,\n",
    "                                'stop': e_index,\n",
    "                                'data_type': file_info['type'].values[0]}\n",
    "                    ground_truth_df = ground_truth_df.append(file_row, ignore_index=True)\n",
    "                    # break\n",
    "            # break\n",
    "ground_truth_df.to_csv('gt_ver2.csv', index=False)"
   ]
  },
  {
   "cell_type": "code",
   "execution_count": null,
   "metadata": {},
   "outputs": [],
   "source": []
  }
 ],
 "metadata": {
  "kernelspec": {
   "display_name": "Python 3",
   "language": "python",
   "name": "python3"
  },
  "language_info": {
   "codemirror_mode": {
    "name": "ipython",
    "version": 3
   },
   "file_extension": ".py",
   "mimetype": "text/x-python",
   "name": "python",
   "nbconvert_exporter": "python",
   "pygments_lexer": "ipython3",
   "version": "3.8.5"
  }
 },
 "nbformat": 4,
 "nbformat_minor": 4
}

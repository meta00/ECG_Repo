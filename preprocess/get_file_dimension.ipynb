{
 "cells": [
  {
   "cell_type": "code",
   "execution_count": 18,
   "metadata": {
    "collapsed": true
   },
   "outputs": [],
   "source": [
    "import pandas as pd\n",
    "import numpy as np\n",
    "%matplotlib inline\n",
    "import matplotlib.pyplot as plt\n",
    "from os import listdir"
   ]
  },
  {
   "cell_type": "code",
   "execution_count": 3,
   "outputs": [],
   "source": [
    "df1 = pd.read_csv('D:\\\\ECG_cleaned\\\\008-5.csv')"
   ],
   "metadata": {
    "collapsed": false,
    "pycharm": {
     "name": "#%%\n"
    }
   }
  },
  {
   "cell_type": "code",
   "execution_count": 4,
   "outputs": [
    {
     "data": {
      "text/plain": "   # ECG Channel 1\n0         0.000087\n1         0.000095\n2         0.000103\n3         0.000109\n4         0.000128",
      "text/html": "<div>\n<style scoped>\n    .dataframe tbody tr th:only-of-type {\n        vertical-align: middle;\n    }\n\n    .dataframe tbody tr th {\n        vertical-align: top;\n    }\n\n    .dataframe thead th {\n        text-align: right;\n    }\n</style>\n<table border=\"1\" class=\"dataframe\">\n  <thead>\n    <tr style=\"text-align: right;\">\n      <th></th>\n      <th># ECG Channel 1</th>\n    </tr>\n  </thead>\n  <tbody>\n    <tr>\n      <th>0</th>\n      <td>0.000087</td>\n    </tr>\n    <tr>\n      <th>1</th>\n      <td>0.000095</td>\n    </tr>\n    <tr>\n      <th>2</th>\n      <td>0.000103</td>\n    </tr>\n    <tr>\n      <th>3</th>\n      <td>0.000109</td>\n    </tr>\n    <tr>\n      <th>4</th>\n      <td>0.000128</td>\n    </tr>\n  </tbody>\n</table>\n</div>"
     },
     "execution_count": 4,
     "metadata": {},
     "output_type": "execute_result"
    }
   ],
   "source": [
    "df1.head()"
   ],
   "metadata": {
    "collapsed": false,
    "pycharm": {
     "name": "#%%\n"
    }
   }
  },
  {
   "cell_type": "code",
   "execution_count": 5,
   "outputs": [
    {
     "data": {
      "text/plain": "(21684800, 1)"
     },
     "execution_count": 5,
     "metadata": {},
     "output_type": "execute_result"
    }
   ],
   "source": [
    "df1.shape"
   ],
   "metadata": {
    "collapsed": false,
    "pycharm": {
     "name": "#%%\n"
    }
   }
  },
  {
   "cell_type": "code",
   "execution_count": 19,
   "outputs": [],
   "source": [
    "mapping_df = pd.read_csv('mapping.csv')"
   ],
   "metadata": {
    "collapsed": false,
    "pycharm": {
     "name": "#%%\n"
    }
   }
  },
  {
   "cell_type": "code",
   "execution_count": 20,
   "outputs": [
    {
     "data": {
      "text/plain": "     usubjid  timepoint  class  ablett_score     file\n0    003-009          1      1             3    009-1\n1    003-011          1      1             3    011-1\n2    003-013          1      1             3    013-1\n3    003-014          1      1             3    014-1\n4    003-017          1      0             2    017-1\n..       ...        ...    ...           ...      ...\n171  003-106          5      0             1  106-5.2\n172  003-107          5      1             4    107-5\n173  003-108          5      0             2    108-5\n174  003-109          5      1             3    109-5\n175  003-110          5      1             3    110-5\n\n[176 rows x 5 columns]",
      "text/html": "<div>\n<style scoped>\n    .dataframe tbody tr th:only-of-type {\n        vertical-align: middle;\n    }\n\n    .dataframe tbody tr th {\n        vertical-align: top;\n    }\n\n    .dataframe thead th {\n        text-align: right;\n    }\n</style>\n<table border=\"1\" class=\"dataframe\">\n  <thead>\n    <tr style=\"text-align: right;\">\n      <th></th>\n      <th>usubjid</th>\n      <th>timepoint</th>\n      <th>class</th>\n      <th>ablett_score</th>\n      <th>file</th>\n    </tr>\n  </thead>\n  <tbody>\n    <tr>\n      <th>0</th>\n      <td>003-009</td>\n      <td>1</td>\n      <td>1</td>\n      <td>3</td>\n      <td>009-1</td>\n    </tr>\n    <tr>\n      <th>1</th>\n      <td>003-011</td>\n      <td>1</td>\n      <td>1</td>\n      <td>3</td>\n      <td>011-1</td>\n    </tr>\n    <tr>\n      <th>2</th>\n      <td>003-013</td>\n      <td>1</td>\n      <td>1</td>\n      <td>3</td>\n      <td>013-1</td>\n    </tr>\n    <tr>\n      <th>3</th>\n      <td>003-014</td>\n      <td>1</td>\n      <td>1</td>\n      <td>3</td>\n      <td>014-1</td>\n    </tr>\n    <tr>\n      <th>4</th>\n      <td>003-017</td>\n      <td>1</td>\n      <td>0</td>\n      <td>2</td>\n      <td>017-1</td>\n    </tr>\n    <tr>\n      <th>...</th>\n      <td>...</td>\n      <td>...</td>\n      <td>...</td>\n      <td>...</td>\n      <td>...</td>\n    </tr>\n    <tr>\n      <th>171</th>\n      <td>003-106</td>\n      <td>5</td>\n      <td>0</td>\n      <td>1</td>\n      <td>106-5.2</td>\n    </tr>\n    <tr>\n      <th>172</th>\n      <td>003-107</td>\n      <td>5</td>\n      <td>1</td>\n      <td>4</td>\n      <td>107-5</td>\n    </tr>\n    <tr>\n      <th>173</th>\n      <td>003-108</td>\n      <td>5</td>\n      <td>0</td>\n      <td>2</td>\n      <td>108-5</td>\n    </tr>\n    <tr>\n      <th>174</th>\n      <td>003-109</td>\n      <td>5</td>\n      <td>1</td>\n      <td>3</td>\n      <td>109-5</td>\n    </tr>\n    <tr>\n      <th>175</th>\n      <td>003-110</td>\n      <td>5</td>\n      <td>1</td>\n      <td>3</td>\n      <td>110-5</td>\n    </tr>\n  </tbody>\n</table>\n<p>176 rows × 5 columns</p>\n</div>"
     },
     "execution_count": 20,
     "metadata": {},
     "output_type": "execute_result"
    }
   ],
   "source": [
    "mapping_df"
   ],
   "metadata": {
    "collapsed": false,
    "pycharm": {
     "name": "#%%\n"
    }
   }
  },
  {
   "cell_type": "code",
   "execution_count": 21,
   "outputs": [],
   "source": [
    "def string_to_path(data_file, index):\n",
    "    df = pd.read_csv('D:\\\\ECG_cleaned\\\\{}'.format(data_file))\n",
    "    return str(df.shape[index])"
   ],
   "metadata": {
    "collapsed": false,
    "pycharm": {
     "name": "#%%\n"
    }
   }
  },
  {
   "cell_type": "code",
   "execution_count": 22,
   "outputs": [],
   "source": [
    "import os.path\n",
    "\n",
    "def is_file_exist(file_path):\n",
    "    if os.path.isfile('D:\\\\ECG_cleaned\\\\{}'.format(file_path)):\n",
    "        return True\n",
    "    else:\n",
    "        return False"
   ],
   "metadata": {
    "collapsed": false,
    "pycharm": {
     "name": "#%%\n"
    }
   }
  },
  {
   "cell_type": "code",
   "execution_count": 23,
   "outputs": [],
   "source": [
    "mapping_df['Exist'] = mapping_df.apply(lambda row: is_file_exist(row['file'] + \".csv\"), axis = 1)"
   ],
   "metadata": {
    "collapsed": false,
    "pycharm": {
     "name": "#%%\n"
    }
   }
  },
  {
   "cell_type": "code",
   "execution_count": 24,
   "outputs": [
    {
     "data": {
      "text/plain": "Empty DataFrame\nColumns: [usubjid, timepoint, class, ablett_score, file, Exist]\nIndex: []",
      "text/html": "<div>\n<style scoped>\n    .dataframe tbody tr th:only-of-type {\n        vertical-align: middle;\n    }\n\n    .dataframe tbody tr th {\n        vertical-align: top;\n    }\n\n    .dataframe thead th {\n        text-align: right;\n    }\n</style>\n<table border=\"1\" class=\"dataframe\">\n  <thead>\n    <tr style=\"text-align: right;\">\n      <th></th>\n      <th>usubjid</th>\n      <th>timepoint</th>\n      <th>class</th>\n      <th>ablett_score</th>\n      <th>file</th>\n      <th>Exist</th>\n    </tr>\n  </thead>\n  <tbody>\n  </tbody>\n</table>\n</div>"
     },
     "execution_count": 24,
     "metadata": {},
     "output_type": "execute_result"
    }
   ],
   "source": [
    "mapping_df[mapping_df['Exist'] == False]"
   ],
   "metadata": {
    "collapsed": false,
    "pycharm": {
     "name": "#%%\n"
    }
   }
  },
  {
   "cell_type": "code",
   "execution_count": 25,
   "outputs": [],
   "source": [
    "mapping_df['Size Y'] = mapping_df.apply(lambda row: string_to_path(row['file'] + \".csv\", 0), axis = 1)\n",
    "mapping_df['Size X'] = mapping_df.apply(lambda row: string_to_path(row['file'] + \".csv\", 1), axis = 1)"
   ],
   "metadata": {
    "collapsed": false,
    "pycharm": {
     "name": "#%%\n"
    }
   }
  },
  {
   "cell_type": "code",
   "execution_count": 30,
   "outputs": [],
   "source": [
    "mapping_df.to_csv(\"Estimated.csv\", index=False)"
   ],
   "metadata": {
    "collapsed": false,
    "pycharm": {
     "name": "#%%\n"
    }
   }
  },
  {
   "cell_type": "code",
   "execution_count": 27,
   "outputs": [
    {
     "data": {
      "text/plain": "     usubjid  timepoint  class  ablett_score     file  Exist    Size Y Size X\n0    003-009          1      1             3    009-1   True  39115904      1\n1    003-011          1      1             3    011-1   True  23209536      1\n2    003-013          1      1             3    013-1   True  20689408      1\n3    003-014          1      1             3    014-1   True  18001344      1\n4    003-017          1      0             2    017-1   True  25007232      1\n..       ...        ...    ...           ...      ...    ...       ...    ...\n171  003-106          5      0             1  106-5.2   True  35760064      1\n172  003-107          5      1             4    107-5   True  17936064      2\n173  003-108          5      0             2    108-5   True  20272064      2\n174  003-109          5      1             3    109-5   True  24784064      2\n175  003-110          5      1             3    110-5   True  25968064      2\n\n[176 rows x 8 columns]",
      "text/html": "<div>\n<style scoped>\n    .dataframe tbody tr th:only-of-type {\n        vertical-align: middle;\n    }\n\n    .dataframe tbody tr th {\n        vertical-align: top;\n    }\n\n    .dataframe thead th {\n        text-align: right;\n    }\n</style>\n<table border=\"1\" class=\"dataframe\">\n  <thead>\n    <tr style=\"text-align: right;\">\n      <th></th>\n      <th>usubjid</th>\n      <th>timepoint</th>\n      <th>class</th>\n      <th>ablett_score</th>\n      <th>file</th>\n      <th>Exist</th>\n      <th>Size Y</th>\n      <th>Size X</th>\n    </tr>\n  </thead>\n  <tbody>\n    <tr>\n      <th>0</th>\n      <td>003-009</td>\n      <td>1</td>\n      <td>1</td>\n      <td>3</td>\n      <td>009-1</td>\n      <td>True</td>\n      <td>39115904</td>\n      <td>1</td>\n    </tr>\n    <tr>\n      <th>1</th>\n      <td>003-011</td>\n      <td>1</td>\n      <td>1</td>\n      <td>3</td>\n      <td>011-1</td>\n      <td>True</td>\n      <td>23209536</td>\n      <td>1</td>\n    </tr>\n    <tr>\n      <th>2</th>\n      <td>003-013</td>\n      <td>1</td>\n      <td>1</td>\n      <td>3</td>\n      <td>013-1</td>\n      <td>True</td>\n      <td>20689408</td>\n      <td>1</td>\n    </tr>\n    <tr>\n      <th>3</th>\n      <td>003-014</td>\n      <td>1</td>\n      <td>1</td>\n      <td>3</td>\n      <td>014-1</td>\n      <td>True</td>\n      <td>18001344</td>\n      <td>1</td>\n    </tr>\n    <tr>\n      <th>4</th>\n      <td>003-017</td>\n      <td>1</td>\n      <td>0</td>\n      <td>2</td>\n      <td>017-1</td>\n      <td>True</td>\n      <td>25007232</td>\n      <td>1</td>\n    </tr>\n    <tr>\n      <th>...</th>\n      <td>...</td>\n      <td>...</td>\n      <td>...</td>\n      <td>...</td>\n      <td>...</td>\n      <td>...</td>\n      <td>...</td>\n      <td>...</td>\n    </tr>\n    <tr>\n      <th>171</th>\n      <td>003-106</td>\n      <td>5</td>\n      <td>0</td>\n      <td>1</td>\n      <td>106-5.2</td>\n      <td>True</td>\n      <td>35760064</td>\n      <td>1</td>\n    </tr>\n    <tr>\n      <th>172</th>\n      <td>003-107</td>\n      <td>5</td>\n      <td>1</td>\n      <td>4</td>\n      <td>107-5</td>\n      <td>True</td>\n      <td>17936064</td>\n      <td>2</td>\n    </tr>\n    <tr>\n      <th>173</th>\n      <td>003-108</td>\n      <td>5</td>\n      <td>0</td>\n      <td>2</td>\n      <td>108-5</td>\n      <td>True</td>\n      <td>20272064</td>\n      <td>2</td>\n    </tr>\n    <tr>\n      <th>174</th>\n      <td>003-109</td>\n      <td>5</td>\n      <td>1</td>\n      <td>3</td>\n      <td>109-5</td>\n      <td>True</td>\n      <td>24784064</td>\n      <td>2</td>\n    </tr>\n    <tr>\n      <th>175</th>\n      <td>003-110</td>\n      <td>5</td>\n      <td>1</td>\n      <td>3</td>\n      <td>110-5</td>\n      <td>True</td>\n      <td>25968064</td>\n      <td>2</td>\n    </tr>\n  </tbody>\n</table>\n<p>176 rows × 8 columns</p>\n</div>"
     },
     "execution_count": 27,
     "metadata": {},
     "output_type": "execute_result"
    }
   ],
   "source": [
    "mapping_df"
   ],
   "metadata": {
    "collapsed": false,
    "pycharm": {
     "name": "#%%\n"
    }
   }
  }
 ],
 "metadata": {
  "kernelspec": {
   "display_name": "Python 3",
   "language": "python",
   "name": "python3"
  },
  "language_info": {
   "codemirror_mode": {
    "name": "ipython",
    "version": 2
   },
   "file_extension": ".py",
   "mimetype": "text/x-python",
   "name": "python",
   "nbconvert_exporter": "python",
   "pygments_lexer": "ipython2",
   "version": "2.7.6"
  }
 },
 "nbformat": 4,
 "nbformat_minor": 0
}
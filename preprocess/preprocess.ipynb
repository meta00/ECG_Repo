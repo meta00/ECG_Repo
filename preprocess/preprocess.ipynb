{
 "cells": [
  {
   "cell_type": "code",
   "execution_count": 1,
   "outputs": [],
   "source": [
    "import pandas as pd\n",
    "import numpy as np\n",
    "%matplotlib inline\n",
    "import matplotlib.pyplot as plt\n",
    "from os import listdir\n",
    "import numpy as np\n",
    "import mne\n",
    "import os"
   ],
   "metadata": {
    "collapsed": false,
    "pycharm": {
     "name": "#%%\n"
    }
   }
  },
  {
   "cell_type": "code",
   "execution_count": 2,
   "outputs": [],
   "source": [
    "df1 = pd.read_csv('mapping.csv')"
   ],
   "metadata": {
    "collapsed": false,
    "pycharm": {
     "name": "#%%\n"
    }
   }
  },
  {
   "cell_type": "code",
   "execution_count": 3,
   "outputs": [
    {
     "data": {
      "text/plain": "   usubjid  timepoint  class  ablett_score   file\n0  003-009          1      1             3  009-1\n1  003-011          1      1             3  011-1\n2  003-013          1      1             3  013-1\n3  003-014          1      1             3  014-1\n4  003-017          1      0             2  017-1",
      "text/html": "<div>\n<style scoped>\n    .dataframe tbody tr th:only-of-type {\n        vertical-align: middle;\n    }\n\n    .dataframe tbody tr th {\n        vertical-align: top;\n    }\n\n    .dataframe thead th {\n        text-align: right;\n    }\n</style>\n<table border=\"1\" class=\"dataframe\">\n  <thead>\n    <tr style=\"text-align: right;\">\n      <th></th>\n      <th>usubjid</th>\n      <th>timepoint</th>\n      <th>class</th>\n      <th>ablett_score</th>\n      <th>file</th>\n    </tr>\n  </thead>\n  <tbody>\n    <tr>\n      <th>0</th>\n      <td>003-009</td>\n      <td>1</td>\n      <td>1</td>\n      <td>3</td>\n      <td>009-1</td>\n    </tr>\n    <tr>\n      <th>1</th>\n      <td>003-011</td>\n      <td>1</td>\n      <td>1</td>\n      <td>3</td>\n      <td>011-1</td>\n    </tr>\n    <tr>\n      <th>2</th>\n      <td>003-013</td>\n      <td>1</td>\n      <td>1</td>\n      <td>3</td>\n      <td>013-1</td>\n    </tr>\n    <tr>\n      <th>3</th>\n      <td>003-014</td>\n      <td>1</td>\n      <td>1</td>\n      <td>3</td>\n      <td>014-1</td>\n    </tr>\n    <tr>\n      <th>4</th>\n      <td>003-017</td>\n      <td>1</td>\n      <td>0</td>\n      <td>2</td>\n      <td>017-1</td>\n    </tr>\n  </tbody>\n</table>\n</div>"
     },
     "execution_count": 3,
     "metadata": {},
     "output_type": "execute_result"
    }
   ],
   "source": [
    "df1.head(5)"
   ],
   "metadata": {
    "collapsed": false,
    "pycharm": {
     "name": "#%%\n"
    }
   }
  },
  {
   "cell_type": "code",
   "execution_count": 4,
   "outputs": [],
   "source": [
    "working_dir = os.getcwd()\n",
    "data_path = working_dir + os.sep + \"ECG\"\n",
    "data_path = \"D:\\\\ECG\""
   ],
   "metadata": {
    "collapsed": false,
    "pycharm": {
     "name": "#%%\n"
    }
   }
  },
  {
   "cell_type": "code",
   "execution_count": 5,
   "outputs": [],
   "source": [
    "def cleaned_file_name():\n",
    "    # r=root, d=directories, f = files\n",
    "    for r, d, f in os.walk(data_path):\n",
    "        for file in f:\n",
    "            if file.endswith(\".edf\"):\n",
    "                old_file_name = os.path.join(r, file)\n",
    "                new_file_name = old_file_name.replace(\"_reduced\", \"\")\n",
    "                os.rename(old_file_name, new_file_name)\n",
    "\n",
    "cleaned_file_name()"
   ],
   "metadata": {
    "collapsed": false,
    "pycharm": {
     "name": "#%%\n"
    }
   }
  },
  {
   "cell_type": "code",
   "execution_count": null,
   "outputs": [],
   "source": [
    "def edf_to_csv(path):\n",
    "    edf = mne.io.read_raw_edf(path)\n",
    "    header = ','.join(edf.ch_names)\n",
    "    csv_file_name = path[:-3] + 'csv'\n",
    "    np.savetxt(csv_file_name, edf.get_data().T, delimiter=',', header=header)\n",
    "\n",
    "def convert_all_to_csv():\n",
    "    for r, d, f in os.walk(data_path):\n",
    "        for file in f:\n",
    "            if file.endswith(\".edf\"):\n",
    "                file_path = os.path.join(r, file)\n",
    "                edf_to_csv(file_path)\n",
    "\n",
    "convert_all_to_csv()"
   ],
   "metadata": {
    "collapsed": false,
    "pycharm": {
     "name": "#%%\n"
    }
   }
  },
  {
   "cell_type": "code",
   "execution_count": null,
   "outputs": [],
   "source": [
    "#pick 2 random files to sample\n",
    "df2 = pd.read_csv(\"040-5.csv\")\n",
    "df3 = pd.read_csv(\"084-1.csv\")\n",
    "\n",
    "print(df2.shape, df3.shape)"
   ],
   "metadata": {
    "collapsed": false,
    "pycharm": {
     "name": "#%%\n"
    }
   }
  },
  {
   "cell_type": "code",
   "execution_count": null,
   "metadata": {
    "collapsed": true,
    "pycharm": {
     "is_executing": true
    }
   },
   "outputs": [],
   "source": []
  },
  {
   "cell_type": "code",
   "execution_count": 2,
   "outputs": [],
   "source": [
    "df1 = pd.read_csv('mapping.csv')"
   ],
   "metadata": {
    "collapsed": false,
    "pycharm": {
     "name": "#%%\n"
    }
   }
  },
  {
   "cell_type": "code",
   "execution_count": 3,
   "outputs": [
    {
     "data": {
      "text/plain": "   usubjid  timepoint  class  ablett_score   file\n0  003-009          1      1             3  009-1\n1  003-011          1      1             3  011-1\n2  003-013          1      1             3  013-1\n3  003-014          1      1             3  014-1\n4  003-017          1      0             2  017-1",
      "text/html": "<div>\n<style scoped>\n    .dataframe tbody tr th:only-of-type {\n        vertical-align: middle;\n    }\n\n    .dataframe tbody tr th {\n        vertical-align: top;\n    }\n\n    .dataframe thead th {\n        text-align: right;\n    }\n</style>\n<table border=\"1\" class=\"dataframe\">\n  <thead>\n    <tr style=\"text-align: right;\">\n      <th></th>\n      <th>usubjid</th>\n      <th>timepoint</th>\n      <th>class</th>\n      <th>ablett_score</th>\n      <th>file</th>\n    </tr>\n  </thead>\n  <tbody>\n    <tr>\n      <th>0</th>\n      <td>003-009</td>\n      <td>1</td>\n      <td>1</td>\n      <td>3</td>\n      <td>009-1</td>\n    </tr>\n    <tr>\n      <th>1</th>\n      <td>003-011</td>\n      <td>1</td>\n      <td>1</td>\n      <td>3</td>\n      <td>011-1</td>\n    </tr>\n    <tr>\n      <th>2</th>\n      <td>003-013</td>\n      <td>1</td>\n      <td>1</td>\n      <td>3</td>\n      <td>013-1</td>\n    </tr>\n    <tr>\n      <th>3</th>\n      <td>003-014</td>\n      <td>1</td>\n      <td>1</td>\n      <td>3</td>\n      <td>014-1</td>\n    </tr>\n    <tr>\n      <th>4</th>\n      <td>003-017</td>\n      <td>1</td>\n      <td>0</td>\n      <td>2</td>\n      <td>017-1</td>\n    </tr>\n  </tbody>\n</table>\n</div>"
     },
     "execution_count": 3,
     "metadata": {},
     "output_type": "execute_result"
    }
   ],
   "source": [
    "df1.head(5)"
   ],
   "metadata": {
    "collapsed": false,
    "pycharm": {
     "name": "#%%\n"
    }
   }
  },
  {
   "cell_type": "code",
   "execution_count": 8,
   "outputs": [],
   "source": [
    "working_dir = os.getcwd()\n",
    "data_path = working_dir + os.sep + \"ECG\""
   ],
   "metadata": {
    "collapsed": false,
    "pycharm": {
     "name": "#%%\n"
    }
   }
  },
  {
   "cell_type": "code",
   "execution_count": 9,
   "outputs": [],
   "source": [
    "def cleaned_file_name():\n",
    "    # r=root, d=directories, f = files\n",
    "    for r, d, f in os.walk(data_path):\n",
    "        for file in f:\n",
    "            if file.endswith(\".edf\"):\n",
    "                old_file_name = os.path.join(r, file)\n",
    "                new_file_name = old_file_name.replace(\"_reduced\", \"\")\n",
    "                os.rename(old_file_name, new_file_name)\n",
    "\n",
    "cleaned_file_name()"
   ],
   "metadata": {
    "collapsed": false,
    "pycharm": {
     "name": "#%%\n"
    }
   }
  },
  {
   "cell_type": "code",
   "execution_count": null,
   "outputs": [
    {
     "name": "stdout",
     "output_type": "stream",
     "text": [
      "Extracting EDF parameters from /Users/tuanminh/Documents/ECG Training/ECG/040-5.edf...\n",
      "EDF file detected\n",
      "Setting channel info structure...\n",
      "Creating raw.info structure...\n",
      "Extracting EDF parameters from /Users/tuanminh/Documents/ECG Training/ECG/079-1.edf...\n",
      "EDF file detected\n",
      "Setting channel info structure...\n",
      "Creating raw.info structure...\n",
      "Extracting EDF parameters from /Users/tuanminh/Documents/ECG Training/ECG/084-1.edf...\n",
      "EDF file detected\n",
      "Setting channel info structure...\n",
      "Creating raw.info structure...\n",
      "Extracting EDF parameters from /Users/tuanminh/Documents/ECG Training/ECG/064-1.2.edf...\n",
      "EDF file detected\n",
      "Setting channel info structure...\n",
      "Creating raw.info structure...\n",
      "Extracting EDF parameters from /Users/tuanminh/Documents/ECG Training/ECG/044-1.edf...\n",
      "EDF file detected\n",
      "Setting channel info structure...\n",
      "Creating raw.info structure...\n",
      "Extracting EDF parameters from /Users/tuanminh/Documents/ECG Training/ECG/091-5.2.edf...\n",
      "EDF file detected\n",
      "Setting channel info structure...\n",
      "Creating raw.info structure...\n",
      "Extracting EDF parameters from /Users/tuanminh/Documents/ECG Training/ECG/038-5.edf...\n",
      "EDF file detected\n",
      "Setting channel info structure...\n",
      "Creating raw.info structure...\n",
      "Extracting EDF parameters from /Users/tuanminh/Documents/ECG Training/ECG/080-5.edf...\n",
      "EDF file detected\n",
      "Setting channel info structure...\n",
      "Creating raw.info structure...\n",
      "Extracting EDF parameters from /Users/tuanminh/Documents/ECG Training/ECG/060-1.edf...\n",
      "EDF file detected\n",
      "Setting channel info structure...\n",
      "Creating raw.info structure...\n",
      "Extracting EDF parameters from /Users/tuanminh/Documents/ECG Training/ECG/089-1.1.edf...\n",
      "EDF file detected\n",
      "Setting channel info structure...\n",
      "Creating raw.info structure...\n",
      "Extracting EDF parameters from /Users/tuanminh/Documents/ECG Training/ECG/059-5.edf...\n",
      "EDF file detected\n",
      "Setting channel info structure...\n",
      "Creating raw.info structure...\n",
      "Extracting EDF parameters from /Users/tuanminh/Documents/ECG Training/ECG/080-1.2.edf...\n",
      "EDF file detected\n",
      "Setting channel info structure...\n",
      "Creating raw.info structure...\n",
      "Extracting EDF parameters from /Users/tuanminh/Documents/ECG Training/ECG/090-1.2.edf...\n",
      "EDF file detected\n",
      "Setting channel info structure...\n",
      "Creating raw.info structure...\n",
      "Extracting EDF parameters from /Users/tuanminh/Documents/ECG Training/ECG/105-1.edf...\n",
      "EDF file detected\n",
      "Setting channel info structure...\n",
      "Creating raw.info structure...\n",
      "Extracting EDF parameters from /Users/tuanminh/Documents/ECG Training/ECG/064-5.edf...\n",
      "EDF file detected\n",
      "Setting channel info structure...\n",
      "Creating raw.info structure...\n",
      "Extracting EDF parameters from /Users/tuanminh/Documents/ECG Training/ECG/099-5.edf...\n",
      "EDF file detected\n",
      "Setting channel info structure...\n",
      "Creating raw.info structure...\n",
      "Extracting EDF parameters from /Users/tuanminh/Documents/ECG Training/ECG/018-1.edf...\n",
      "EDF file detected\n",
      "Setting channel info structure...\n",
      "Creating raw.info structure...\n",
      "Extracting EDF parameters from /Users/tuanminh/Documents/ECG Training/ECG/066-5.edf...\n",
      "EDF file detected\n",
      "Setting channel info structure...\n",
      "Creating raw.info structure...\n",
      "Extracting EDF parameters from /Users/tuanminh/Documents/ECG Training/ECG/062-1.edf...\n",
      "EDF file detected\n",
      "Setting channel info structure...\n",
      "Creating raw.info structure...\n",
      "Extracting EDF parameters from /Users/tuanminh/Documents/ECG Training/ECG/103-5.edf...\n",
      "EDF file detected\n",
      "Setting channel info structure...\n",
      "Creating raw.info structure...\n",
      "Extracting EDF parameters from /Users/tuanminh/Documents/ECG Training/ECG/046-1.edf...\n",
      "EDF file detected\n",
      "Setting channel info structure...\n",
      "Creating raw.info structure...\n",
      "Extracting EDF parameters from /Users/tuanminh/Documents/ECG Training/ECG/089-1.2.edf...\n",
      "EDF file detected\n",
      "Setting channel info structure...\n",
      "Creating raw.info structure...\n",
      "Extracting EDF parameters from /Users/tuanminh/Documents/ECG Training/ECG/082-5.edf...\n",
      "EDF file detected\n",
      "Setting channel info structure...\n",
      "Creating raw.info structure...\n",
      "Extracting EDF parameters from /Users/tuanminh/Documents/ECG Training/ECG/090-1.1.edf...\n",
      "EDF file detected\n",
      "Setting channel info structure...\n",
      "Creating raw.info structure...\n",
      "Extracting EDF parameters from /Users/tuanminh/Documents/ECG Training/ECG/042-5.edf...\n",
      "EDF file detected\n",
      "Setting channel info structure...\n",
      "Creating raw.info structure...\n",
      "Extracting EDF parameters from /Users/tuanminh/Documents/ECG Training/ECG/080-1.1.edf...\n",
      "EDF file detected\n",
      "Setting channel info structure...\n",
      "Creating raw.info structure...\n",
      "Extracting EDF parameters from /Users/tuanminh/Documents/ECG Training/ECG/086-1.edf...\n",
      "EDF file detected\n",
      "Setting channel info structure...\n",
      "Creating raw.info structure...\n",
      "Extracting EDF parameters from /Users/tuanminh/Documents/ECG Training/ECG/086-5.edf...\n",
      "EDF file detected\n",
      "Setting channel info structure...\n",
      "Creating raw.info structure...\n"
     ]
    },
    {
     "name": "stderr",
     "output_type": "stream",
     "text": [
      "<ipython-input-11-08e556429f59>:2: RuntimeWarning: Omitted 1 annotation(s) that were outside data range.\n",
      "  edf = mne.io.read_raw_edf(path)\n",
      "<ipython-input-11-08e556429f59>:2: RuntimeWarning: Omitted 1 annotation(s) that were outside data range.\n",
      "  edf = mne.io.read_raw_edf(path)\n",
      "<ipython-input-11-08e556429f59>:2: RuntimeWarning: Omitted 1 annotation(s) that were outside data range.\n",
      "  edf = mne.io.read_raw_edf(path)\n",
      "<ipython-input-11-08e556429f59>:2: RuntimeWarning: Omitted 1 annotation(s) that were outside data range.\n",
      "  edf = mne.io.read_raw_edf(path)\n",
      "<ipython-input-11-08e556429f59>:2: RuntimeWarning: Omitted 1 annotation(s) that were outside data range.\n",
      "  edf = mne.io.read_raw_edf(path)\n",
      "<ipython-input-11-08e556429f59>:2: RuntimeWarning: Omitted 1 annotation(s) that were outside data range.\n",
      "  edf = mne.io.read_raw_edf(path)\n",
      "<ipython-input-11-08e556429f59>:2: RuntimeWarning: Omitted 1 annotation(s) that were outside data range.\n",
      "  edf = mne.io.read_raw_edf(path)\n",
      "<ipython-input-11-08e556429f59>:2: RuntimeWarning: Omitted 1 annotation(s) that were outside data range.\n",
      "  edf = mne.io.read_raw_edf(path)\n",
      "<ipython-input-11-08e556429f59>:2: RuntimeWarning: Omitted 1 annotation(s) that were outside data range.\n",
      "  edf = mne.io.read_raw_edf(path)\n",
      "<ipython-input-11-08e556429f59>:2: RuntimeWarning: Omitted 2 annotation(s) that were outside data range.\n",
      "  edf = mne.io.read_raw_edf(path)\n",
      "<ipython-input-11-08e556429f59>:2: RuntimeWarning: Omitted 2 annotation(s) that were outside data range.\n",
      "  edf = mne.io.read_raw_edf(path)\n",
      "<ipython-input-11-08e556429f59>:2: RuntimeWarning: Omitted 1 annotation(s) that were outside data range.\n",
      "  edf = mne.io.read_raw_edf(path)\n",
      "<ipython-input-11-08e556429f59>:2: RuntimeWarning: Omitted 2 annotation(s) that were outside data range.\n",
      "  edf = mne.io.read_raw_edf(path)\n",
      "<ipython-input-11-08e556429f59>:2: RuntimeWarning: Omitted 1 annotation(s) that were outside data range.\n",
      "  edf = mne.io.read_raw_edf(path)\n",
      "<ipython-input-11-08e556429f59>:2: RuntimeWarning: Omitted 1 annotation(s) that were outside data range.\n",
      "  edf = mne.io.read_raw_edf(path)\n"
     ]
    }
   ],
   "source": [
    "def edf_to_csv(path):\n",
    "    edf = mne.io.read_raw_edf(path)\n",
    "    header = ','.join(edf.ch_names)\n",
    "    csv_file_name = path[:-3] + 'csv'\n",
    "    np.savetxt(csv_file_name, edf.get_data().T, delimiter=',', header=header)\n",
    "\n",
    "def convert_all_to_csv():\n",
    "    for r, d, f in os.walk(data_path):\n",
    "        for file in f:\n",
    "            if file.endswith(\".edf\"):\n",
    "                file_path = os.path.join(r, file)\n",
    "                edf_to_csv(file_path)\n",
    "\n",
    "convert_all_to_csv()"
   ],
   "metadata": {
    "collapsed": false,
    "pycharm": {
     "name": "#%%\n",
     "is_executing": true
    }
   }
  },
  {
   "cell_type": "code",
   "execution_count": null,
   "outputs": [],
   "source": [
    "#pick 2 random files to sample\n",
    "df2 = pd.read_csv(\"040-5.csv\")\n",
    "df3 = pd.read_csv(\"084-1.csv\")\n",
    "\n",
    "print(df2.shape, df3.shape)"
   ],
   "metadata": {
    "collapsed": false,
    "pycharm": {
     "name": "#%%\n",
     "is_executing": true
    }
   }
  },
  {
   "cell_type": "code",
   "execution_count": null,
   "outputs": [],
   "source": [],
   "metadata": {
    "collapsed": false,
    "pycharm": {
     "name": "#%%\n"
    }
   }
  }
 ],
 "metadata": {
  "kernelspec": {
   "display_name": "Python 3",
   "language": "python",
   "name": "python3"
  },
  "language_info": {
   "codemirror_mode": {
    "name": "ipython",
    "version": 2
   },
   "file_extension": ".py",
   "mimetype": "text/x-python",
   "name": "python",
   "nbconvert_exporter": "python",
   "pygments_lexer": "ipython2",
   "version": "2.7.6"
  }
 },
 "nbformat": 4,
 "nbformat_minor": 0
}